{
 "cells": [
  {
   "cell_type": "code",
   "execution_count": 8,
   "metadata": {},
   "outputs": [
    {
     "name": "stdout",
     "output_type": "stream",
     "text": [
      "Number: 2 Type: <class 'int'>\n",
      "Number: 3.4 Type: <class 'float'>\n",
      "Number: (100+5j) Type: <class 'complex'>\n"
     ]
    }
   ],
   "source": [
    "#Numeric data types\n",
    "int_num = 2\n",
    "print(\"Number:\", int_num, \"Type:\", type(int_num))\n",
    "\n",
    "float_num = 3.4\n",
    "print(\"Number:\", float_num, \"Type:\", type(float_num))\n",
    "\n",
    "complex_num = 100+5j\n",
    "print(\"Number:\", complex_num, \"Type:\", type(complex_num))"
   ]
  },
  {
   "cell_type": "code",
   "execution_count": null,
   "metadata": {},
   "outputs": [],
   "source": []
  },
  {
   "cell_type": "code",
   "execution_count": null,
   "metadata": {},
   "outputs": [
    {
     "name": "stdout",
     "output_type": "stream",
     "text": [
      "Number: 5.0 Type: <class 'float'>\n",
      "Number: 5 Type: <class 'int'>\n",
      "Number: (5+0j) Type: <class 'complex'>\n"
     ]
    }
   ],
   "source": [
    "#Type casting\n",
    "int_num = 5\n",
    "float_num = float(int_num)\n",
    "print(\"Number:\", float_num, \"Type:\", type(float_num))\n",
    "\n",
    "int_num = int(float_num)\n",
    "print(\"Number:\", int_num, \"Type:\", type(int_num))\n",
    "\n",
    "complex_num = complex(float_num)\n",
    "print(\"Number:\", complex_num, \"Type:\", type(complex_num))"
   ]
  },
  {
   "cell_type": "code",
   "execution_count": 14,
   "metadata": {},
   "outputs": [
    {
     "name": "stdout",
     "output_type": "stream",
     "text": [
      "List: ['Rat', 'cow', 'rabbit', 'monkey'] Type: <class 'list'>\n",
      "rabbit\n",
      "4\n",
      "monkey\n",
      "['coke', 'sprite', 'pepsi']\n"
     ]
    }
   ],
   "source": [
    "#List\n",
    "my_list = ['Rat','cow','rabbit','monkey']\n",
    "print(\"List:\", my_list, \"Type:\", type(my_list))\n",
    "print(my_list[2])\n",
    "print(len(my_list))\n",
    "print(my_list[-1])\n",
    "\n",
    "my_list_2 = list((\"coke\", \"sprite\", \"pepsi\"))\n",
    "print(my_list_2)"
   ]
  }
 ],
 "metadata": {
  "kernelspec": {
   "display_name": "Python 3",
   "language": "python",
   "name": "python3"
  },
  "language_info": {
   "codemirror_mode": {
    "name": "ipython",
    "version": 3
   },
   "file_extension": ".py",
   "mimetype": "text/x-python",
   "name": "python",
   "nbconvert_exporter": "python",
   "pygments_lexer": "ipython3",
   "version": "3.12.6"
  }
 },
 "nbformat": 4,
 "nbformat_minor": 2
}

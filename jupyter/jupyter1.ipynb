{
 "cells": [
  {
   "cell_type": "code",
   "execution_count": 8,
   "metadata": {},
   "outputs": [
    {
     "name": "stdout",
     "output_type": "stream",
     "text": [
      "Number: 2 Type: <class 'int'>\n",
      "Number: 3.4 Type: <class 'float'>\n",
      "Number: (100+5j) Type: <class 'complex'>\n"
     ]
    }
   ],
   "source": [
    "#Numeric data types\n",
    "int_num = 2\n",
    "print(\"Number:\", int_num, \"Type:\", type(int_num))\n",
    "\n",
    "float_num = 3.4\n",
    "print(\"Number:\", float_num, \"Type:\", type(float_num))\n",
    "\n",
    "complex_num = 100+5j\n",
    "print(\"Number:\", complex_num, \"Type:\", type(complex_num))"
   ]
  },
  {
   "cell_type": "code",
   "execution_count": null,
   "metadata": {},
   "outputs": [],
   "source": []
  },
  {
   "cell_type": "code",
   "execution_count": null,
   "metadata": {},
   "outputs": [
    {
     "name": "stdout",
     "output_type": "stream",
     "text": [
      "Number: 5.0 Type: <class 'float'>\n",
      "Number: 5 Type: <class 'int'>\n",
      "Number: (5+0j) Type: <class 'complex'>\n"
     ]
    }
   ],
   "source": [
    "#Type casting\n",
    "int_num = 5\n",
    "float_num = float(int_num)\n",
    "print(\"Number:\", float_num, \"Type:\", type(float_num))\n",
    "\n",
    "int_num = int(float_num)\n",
    "print(\"Number:\", int_num, \"Type:\", type(int_num))\n",
    "\n",
    "complex_num = complex(float_num)\n",
    "print(\"Number:\", complex_num, \"Type:\", type(complex_num))"
   ]
  },
  {
   "cell_type": "code",
   "execution_count": 22,
   "metadata": {},
   "outputs": [
    {
     "name": "stdout",
     "output_type": "stream",
     "text": [
      "List: ['rat', 'cow', 'rabbit', 'monkey', 'rat'] Type: <class 'list'>\n",
      "rabbit\n",
      "5\n",
      "rat\n",
      "['coke', 'sprite', 'pepsi']\n",
      "['cow', 'rabbit']\n",
      "['rat', 'cow']\n",
      "['rat', 'cow', 'rabbit']\n",
      "['rabbit', 'monkey', 'rat']\n",
      "['coke', 'Fanta', 'pepsi']\n",
      "['sprite', 'coke', 'pepsi']\n",
      "['sprite', 'fanta', 'coke', 'pepsi']\n",
      "['sprite', 'fanta', 'coke', 'pepsi', 'soda']\n",
      "['rat', 'cow', 'rabbit', 'monkey', 'rat', 'sprite', 'fanta', 'coke', 'pepsi', 'soda']\n",
      "['cow', 'rabbit', 'monkey', 'rat', 'sprite', 'fanta', 'coke', 'pepsi', 'soda']\n",
      "['cow', 'rabbit', 'monkey', 'sprite', 'fanta', 'coke', 'pepsi', 'soda']\n",
      "['cow', 'rabbit', 'sprite', 'fanta', 'coke', 'pepsi', 'soda']\n",
      "[]\n",
      "['Soda', 'coke', 'cow', 'fanta', 'monkey', 'pepsi', 'rabbit', 'rat', 'rat', 'sprite']\n",
      "['sprite', 'rat', 'rat', 'rabbit', 'pepsi', 'monkey', 'fanta', 'cow', 'coke', 'Soda']\n",
      "['coke', 'cow', 'fanta', 'monkey', 'pepsi', 'rabbit', 'rat', 'rat', 'Soda', 'sprite']\n",
      "['sprite', 'Soda', 'rat', 'rat', 'rabbit', 'pepsi', 'monkey', 'fanta', 'cow', 'coke']\n",
      "['sprite', 'Soda', 'rat', 'rat', 'rabbit', 'pepsi', 'monkey', 'fanta', 'cow', 'coke']\n",
      "[]\n",
      "['sprite', 'Soda', 'rat', 'rat', 'rabbit', 'pepsi', 'monkey', 'fanta', 'cow', 'coke']\n",
      "['sprite', 'Soda', 'rat', 'rat', 'rabbit', 'pepsi', 'monkey', 'fanta', 'cow', 'coke', 'sprite', 'Soda', 'rat', 'rat', 'rabbit', 'pepsi', 'monkey', 'fanta', 'cow', 'coke']\n",
      "['sprite', 'Soda', 'rat', 'rat', 'rabbit', 'pepsi', 'monkey', 'fanta', 'cow', 'coke', 'sprite', 'Soda', 'rat', 'rat', 'rabbit', 'pepsi', 'monkey', 'fanta', 'cow', 'coke']\n"
     ]
    }
   ],
   "source": [
    "#List\n",
    "my_list = ['rat','cow','rabbit','monkey', \"rat\"]\n",
    "print(\"List:\", my_list, \"Type:\", type(my_list))\n",
    "print(my_list[2])\n",
    "print(len(my_list))\n",
    "print(my_list[-1])\n",
    "\n",
    "my_list_2 = list((\"coke\", \"sprite\", \"pepsi\"))\n",
    "print(my_list_2)\n",
    "\n",
    "print(my_list[1:3])\n",
    "print(my_list[0:2])\n",
    "print(my_list[:3])\n",
    "print(my_list[2:])\n",
    "\n",
    "my_list_2[1] = \"Fanta\"\n",
    "print(my_list_2)\n",
    "my_list_2[0:2] = [\"sprite\", \"coke\"]\n",
    "print(my_list_2)\n",
    "\n",
    "#To insert new items without replace any of the exiting values, we can use the insert() method.\n",
    "my_list_2.insert(1, \"fanta\")\n",
    "print(my_list_2)\n",
    "\n",
    "my_list_2.append(\"soda\")\n",
    "print(my_list_2)\n",
    "\n",
    "my_list.extend(my_list_2)\n",
    "print(my_list)\n",
    "\n",
    "my_list.remove(\"rat\")\n",
    "print(my_list)\n",
    "\n",
    "my_list.pop(3)\n",
    "print(my_list)\n",
    "\n",
    "del my_list[2]\n",
    "print(my_list)\n",
    "\n",
    "my_list.clear()\n",
    "print(my_list)\n",
    "\n",
    "my_list = list(('rat', 'cow', 'rabbit', 'monkey', 'rat', 'sprite', 'fanta', 'coke', 'pepsi', 'Soda'))\n",
    "my_list.sort()\n",
    "print(my_list)\n",
    "my_list.sort(reverse = True)\n",
    "print(my_list)\n",
    "my_list.sort(key=str.lower)\n",
    "print(my_list)\n",
    "my_list.reverse()\n",
    "print(my_list)\n",
    "\n",
    "my_list_2 = my_list.copy()\n",
    "print(my_list_2 )\n",
    "my_list_2.clear()\n",
    "print(my_list_2)\n",
    "my_list_2 = list(my_list)\n",
    "print(my_list_2)\n",
    "\n",
    "my_list_3 = my_list + my_list_2\n",
    "print(my_list_3)\n",
    "my_list.extend(my_list_2)\n",
    "print(my_list)\n"
   ]
  },
  {
   "cell_type": "code",
   "execution_count": 39,
   "metadata": {},
   "outputs": [
    {
     "name": "stdout",
     "output_type": "stream",
     "text": [
      "('Hello', 'How', 'Are', 'You') <class 'tuple'>\n",
      "How\n",
      "You\n",
      "<class 'str'>\n",
      "('How', 'Are')\n",
      "('How', 'Are', 'You')\n",
      "('Hello', 'How')\n",
      "4\n",
      "<class 'tuple'>\n",
      "<class 'str'>\n"
     ]
    }
   ],
   "source": [
    "# Tuple\n",
    "my_tuple = (\"Hello\",\"How\",\"Are\",\"You\")\n",
    "print(my_tuple, type(my_tuple))\n",
    "print(my_tuple[1])\n",
    "print(my_tuple[-1])\n",
    "print(type(my_tuple[1]))\n",
    "\n",
    "print(my_tuple[1:3])\n",
    "print(my_tuple[1:])\n",
    "print(my_tuple[:2])\n",
    "\n",
    "print(len(my_tuple))\n",
    "\n",
    "my_tuple = (\"Hello\",)\n",
    "print(type(my_tuple))\n",
    "my_tuple = (\"Hello\")\n",
    "print(type(my_tuple))"
   ]
  },
  {
   "cell_type": "code",
   "execution_count": null,
   "metadata": {},
   "outputs": [
    {
     "name": "stdout",
     "output_type": "stream",
     "text": [
      "Circle Area: 78.54\n",
      "Rectangle Area: 24\n"
     ]
    }
   ],
   "source": []
  }
 ],
 "metadata": {
  "kernelspec": {
   "display_name": "Python 3",
   "language": "python",
   "name": "python3"
  },
  "language_info": {
   "codemirror_mode": {
    "name": "ipython",
    "version": 3
   },
   "file_extension": ".py",
   "mimetype": "text/x-python",
   "name": "python",
   "nbconvert_exporter": "python",
   "pygments_lexer": "ipython3",
   "version": "3.12.6"
  }
 },
 "nbformat": 4,
 "nbformat_minor": 2
}
